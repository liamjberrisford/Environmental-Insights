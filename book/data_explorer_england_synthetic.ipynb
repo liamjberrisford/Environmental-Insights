{
 "cells": [
  {
   "cell_type": "markdown",
   "id": "9256c1fa-4133-41c1-834d-f51d0d7df6af",
   "metadata": {
    "editable": true,
    "slideshow": {
     "slide_type": ""
    },
    "tags": []
   },
   "source": [
    "# Data Explorer England Synthetic "
   ]
  },
  {
   "cell_type": "markdown",
   "id": "4c600af0-4c93-4b79-b30b-8906f1f68879",
   "metadata": {
    "editable": true,
    "slideshow": {
     "slide_type": ""
    },
    "tags": []
   },
   "source": [
    "<div style=\"position:relative; width:100%; height:100vh; margin:0; padding:0;\">\n",
    "  <iframe\n",
    "    src=\"_static/synthhappe_no2.html\"\n",
    "    style=\"position:absolute;\n",
    "           top:0; left:0;\n",
    "           width:100%; height:100%;\n",
    "           border:none;\">\n",
    "  </iframe>\n",
    "</div>\n"
   ]
  },
  {
   "cell_type": "code",
   "execution_count": null,
   "id": "289a309e-65ea-46e7-b723-b68eb9b8275e",
   "metadata": {
    "editable": true,
    "slideshow": {
     "slide_type": ""
    },
    "tags": []
   },
   "outputs": [],
   "source": [
    "#Add README from CEDA"
   ]
  }
 ],
 "metadata": {
  "kernelspec": {
   "display_name": "Python 3 (ipykernel)",
   "language": "python",
   "name": "python3"
  },
  "language_info": {
   "codemirror_mode": {
    "name": "ipython",
    "version": 3
   },
   "file_extension": ".py",
   "mimetype": "text/x-python",
   "name": "python",
   "nbconvert_exporter": "python",
   "pygments_lexer": "ipython3",
   "version": "3.12.2"
  }
 },
 "nbformat": 4,
 "nbformat_minor": 5
}
