{
 "cells": [
  {
   "cell_type": "markdown",
   "id": "744eae31-09ef-4987-a942-8272d0300688",
   "metadata": {
    "editable": true,
    "slideshow": {
     "slide_type": ""
    },
    "tags": []
   },
   "source": [
    "# Sandbox\n",
    "\n",
    "## How to Use This Notebook\n",
    "\n",
    "This notebook allows you to:  \n",
    "1. Select an **air pollutant** (e.g., `o3`, `no2`, `pm10`, etc.), with the variable `pollutant`.\n",
    "2. Download data for a specific **monitoring station** in the UK, with the variable `station_id`.\n",
    "3. Choose a **variable** (column) from that station’s data to visualize, with the variable `variable_to_plot`.\n",
    "4. Plot the selected variable over time or as a geographical scatter.\n",
    "\n",
    "The code will also print out a list of all the options for each stage for you to choose from.\n"
   ]
  },
  {
   "cell_type": "code",
   "execution_count": null,
   "id": "9e4399e6-5842-40fc-a3b2-8b34d9a92610",
   "metadata": {
    "editable": true,
    "slideshow": {
     "slide_type": ""
    },
    "tags": [
     "skip-execution"
    ]
   },
   "outputs": [],
   "source": [
    "import pandas as pd\n",
    "import matplotlib.pyplot as plt\n",
    "from environmental_insights import data as ei_data\n",
    "\n",
    "# ─── USER CONFIGURATION ───\n",
    "pollutant = \"o3\"  # e.g. \"no2\", \"pm10\", etc.\n",
    "\n",
    "# Fetch the list of station names\n",
    "stations = ei_data.get_uk_monitoring_stations(pollutant)\n",
    "\n",
    "# Option 1: print a header, then iterate\n",
    "print(f\"The monitoring stations for the air pollutant {pollutant} are:\")\n",
    "for s in stations:\n",
    "    print(f\"- {s}\")"
   ]
  },
  {
   "cell_type": "code",
   "execution_count": null,
   "id": "20fa6686-222e-4984-ba27-7d3e1dd8e616",
   "metadata": {
    "editable": true,
    "slideshow": {
     "slide_type": ""
    },
    "tags": [
     "skip-execution"
    ]
   },
   "outputs": [],
   "source": [
    "import pandas as pd\n",
    "import matplotlib.pyplot as plt\n",
    "from environmental_insights import data as ei_data\n",
    "\n",
    "# ─── USER CONFIGURATION ───\n",
    "station_id = \"Stoke-on-Trent_Centre\"             # station identifier (use underscores)\n",
    "\n",
    "# ─── STEP 1: Download the station’s data ───\n",
    "station_gdf = ei_data.get_uk_monitoring_station(\n",
    "    pollutant=pollutant,\n",
    "    station=station_id\n",
    ")\n",
    "\n",
    "if station_gdf is None or station_gdf.empty:\n",
    "    raise ValueError(f\"No data returned for {station_id} ({pollutant})\")\n",
    "\n",
    "# If CRS is missing, assume EPSG:3995 and reproject to WGS84 (EPSG:4326)\n",
    "if station_gdf.crs is None:\n",
    "    station_gdf.set_crs(epsg=3995, inplace=True)\n",
    "    \n",
    "\n",
    "\n",
    "# ─── STEP 2: Plot the station location on a simple map with UK outline ───\n",
    "uk_outline_gdf = ei_data.get_uk_grids_outline()\n",
    "if uk_outline_gdf.crs is None:\n",
    "    uk_outline_gdf.set_crs(epsg=3995, inplace=True)\n",
    "\n",
    "fig, ax = plt.subplots(figsize=(5, 5))\n",
    "uk_outline_gdf.plot(\n",
    "    ax=ax,\n",
    "    facecolor=\"none\",\n",
    "    edgecolor=\"black\",\n",
    "    linewidth=0.8,\n",
    "    alpha=0.7\n",
    ")\n",
    "station_gdf.plot(\n",
    "    ax=ax,\n",
    "    markersize=80,\n",
    "    color=\"red\",\n",
    "    edgecolor=\"black\",\n",
    "    alpha=0.8,\n",
    "    label=f\"{station_id.replace('_',' ').title()}\"\n",
    ")\n",
    "\n",
    "ax.set_title(\n",
    "    f\"{pollutant.upper()} Monitoring: {station_id.replace('_', ' ').title()}\",\n",
    "    fontsize=12\n",
    ")\n",
    "\n",
    "ax.set_xlabel(\"Longitude\")\n",
    "ax.set_ylabel(\"Latitude\")\n",
    "ax.set_aspect(\"equal\", adjustable=\"box\")\n",
    "ax.legend(loc=\"upper right\", fontsize=9)\n",
    "plt.tight_layout()\n",
    "plt.show()\n"
   ]
  },
  {
   "cell_type": "code",
   "execution_count": null,
   "id": "59e1ea9c-bf97-4c88-a553-854ca8abe391",
   "metadata": {
    "editable": true,
    "slideshow": {
     "slide_type": ""
    },
    "tags": [
     "skip-execution"
    ]
   },
   "outputs": [],
   "source": [
    "print(\"The columns in this DataFrame are:\")\n",
    "for col in station_gdf.columns:\n",
    "    print(f\"- {col}\")"
   ]
  },
  {
   "cell_type": "code",
   "execution_count": null,
   "id": "663d2e61-96fe-4714-8f9b-e6fa47a088e5",
   "metadata": {
    "editable": true,
    "slideshow": {
     "slide_type": ""
    },
    "tags": [
     "skip-execution"
    ]
   },
   "outputs": [],
   "source": [
    "# ─── USER CONFIGURATION ───\n",
    "variable_to_plot = \"U_Component_of_Wind_100m\" # e.g. any variable in the above list, e.g. \"NAEI_SNAP_6_NMVOC\"\n",
    "\n",
    "fig, ax = plt.subplots(figsize=(10, 6))\n",
    "\n",
    "ax.scatter(\n",
    "    station_gdf[\"Timestamp\"], \n",
    "    station_gdf[variable_to_plot],\n",
    "    s=1,                     # size of each marker in points² (adjust as needed)\n",
    "    c=\"black\",                  # fill color\n",
    "    linewidths=0.2,           # width of each marker’s edge (optional)\n",
    "    alpha=0.8                 # slight transparency if points overlap heavily\n",
    ")\n",
    "\n",
    "ax.set_title(f\"{variable_to_plot} at {station_id.replace('_', ' ').title()} ({pollutant.upper()})\")\n",
    "ax.set_xlabel(\"Timestamp\")\n",
    "ax.set_ylabel(variable_to_plot)\n",
    "plt.tight_layout()\n",
    "plt.show()"
   ]
  },
  {
   "cell_type": "code",
   "execution_count": null,
   "id": "e68ff500-3b14-48c1-95d4-0798042a685a",
   "metadata": {
    "editable": true,
    "slideshow": {
     "slide_type": ""
    },
    "tags": []
   },
   "outputs": [],
   "source": []
  }
 ],
 "metadata": {
  "kernelspec": {
   "display_name": "Python 3 (ipykernel)",
   "language": "python",
   "name": "python3"
  },
  "language_info": {
   "codemirror_mode": {
    "name": "ipython",
    "version": 3
   },
   "file_extension": ".py",
   "mimetype": "text/x-python",
   "name": "python",
   "nbconvert_exporter": "python",
   "pygments_lexer": "ipython3",
   "version": "3.12.2"
  }
 },
 "nbformat": 4,
 "nbformat_minor": 5
}
