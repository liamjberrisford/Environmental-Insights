{
 "cells": [
  {
   "cell_type": "markdown",
   "id": "a2ef553a-b06f-4f8b-be56-74ba59228778",
   "metadata": {
    "editable": true,
    "slideshow": {
     "slide_type": ""
    },
    "tags": []
   },
   "source": [
    "# Training Data Explorer\n"
   ]
  },
  {
   "cell_type": "code",
   "execution_count": 1,
   "id": "9ea414d6-6080-4444-a561-06292c77895e",
   "metadata": {
    "editable": true,
    "slideshow": {
     "slide_type": ""
    },
    "tags": [
     "remove-input"
    ]
   },
   "outputs": [
    {
     "data": {
      "text/html": [
       "<style>\n",
       "  /* 1) The wrapper enforces the “height = X% of width” */\n",
       "  .iframe‐wrapper {\n",
       "    position: relative;\n",
       "    width: 100%;           /* full-width */\n",
       "    padding-bottom: 65%;   /* ← 65% of width = height */\n",
       "    height: 0;             /* collapse the wrapper’s own height (padding-bottom will “create” the height) */\n",
       "  }\n",
       "\n",
       "  /* 2) The iframe is absolutely positioned to fill the wrapper */\n",
       "  .iframe‐wrapper iframe {\n",
       "    position: absolute;\n",
       "    top: 0;\n",
       "    left: 0;\n",
       "    width: 100%;    /* fill 100% of wrapper’s width */\n",
       "    height: 100%;   /* fill 100% of wrapper’s (calculated) height */\n",
       "    border: 0;\n",
       "  }\n",
       "</style>\n",
       "\n",
       "<div class=\"iframe‐wrapper\">\n",
       "  <iframe \n",
       "    src=\"_static/stations_combined.html\"\n",
       "    scrolling=\"no\"\n",
       "    allowfullscreen\n",
       "  ></iframe>\n",
       "</div>\n"
      ],
      "text/plain": [
       "<IPython.core.display.HTML object>"
      ]
     },
     "metadata": {},
     "output_type": "display_data"
    }
   ],
   "source": [
    "%%html\n",
    "<style>\n",
    "  /* 1) The wrapper enforces the “height = X% of width” */\n",
    "  .iframe‐wrapper {\n",
    "    position: relative;\n",
    "    width: 100%;           /* full-width */\n",
    "    padding-bottom: 55%;   /* ← 55% of width = height */\n",
    "    height: 0;             /* collapse the wrapper’s own height (padding-bottom will “create” the height) */\n",
    "  }\n",
    "\n",
    "  /* 2) The iframe is absolutely positioned to fill the wrapper */\n",
    "  .iframe‐wrapper iframe {\n",
    "    position: absolute;\n",
    "    top: 0;\n",
    "    left: 0;\n",
    "    width: 100%;    /* fill 100% of wrapper’s width */\n",
    "    height: 100%;   /* fill 100% of wrapper’s (calculated) height */\n",
    "    border: 0;\n",
    "  }\n",
    "</style>\n",
    "\n",
    "<div class=\"iframe‐wrapper\">\n",
    "  <iframe \n",
    "    src=\"_static/stations_combined.html\"\n",
    "    scrolling=\"no\"\n",
    "    allowfullscreen\n",
    "  ></iframe>\n",
    "</div>"
   ]
  },
  {
   "cell_type": "code",
   "execution_count": null,
   "id": "099e9c9a-46bd-4a77-9fd7-f11b8061bf08",
   "metadata": {
    "editable": true,
    "slideshow": {
     "slide_type": ""
    },
    "tags": []
   },
   "outputs": [],
   "source": [
    "\n",
    "## How to Use the Map Interface\n",
    "\n",
    "Follow these steps to interact with the map, expand the sidebar menu, and set which labels (e.g., air pollutant, monitoring station names) appear on the map.\n",
    "\n",
    "---\n",
    "\n",
    "### 1. Expand the Sidebar Menu\n",
    "\n",
    "1. **Locate the Arrow Icon**  \n",
    "   - In the top-left corner of the map, you’ll see a small arrow (`▶` or `◀`).  \n",
    "   - If the menu is collapsed, this arrow points **right**; if it’s expanded, it points **left**.\n",
    "\n",
    "2. **Click the Arrow**  \n",
    "   - Click once to expand the sidebar.  \n",
    "   - The menu will slide out, revealing filter options, layer controls, and labeling settings.\n",
    "\n",
    "<aside>\n",
    "💡 When the menu is expanded, the arrow flips direction (now pointing left). Clicking it again will collapse the menu.\n",
    "</aside>\n",
    "\n",
    "---\n",
    "\n",
    "### 2. Navigate to Label Settings\n",
    "\n",
    "1. **Find the “Labels” Section**  \n",
    "   - In the expanded sidebar, scroll down until you see a section labeled **“Labels”** (or “Display Options” / “Layer Labels”).  \n",
    "   - This section controls which textual information appears on top of the map markers or overlays.\n",
    "\n",
    "2. **Open the Label Dropdown or Checklist**  \n",
    "   - Click on the dropdown arrow (▾) or the “Labels” header to reveal all available label options.\n",
    "\n",
    "---\n",
    "\n",
    "### 3. Choose Which Labels to Show\n",
    "\n",
    "In the “Labels” section, you will typically see checkboxes or toggles for each type of label. Common label types include:\n",
    "\n",
    "- **Pollutant Type**  \n",
    "  - Displays the abbreviation (e.g., “PM₂.₅”, “NO₂”, “O₃”) next to each monitoring station or on each pollution hotspot.\n",
    "\n",
    "- **Monitoring Station Name**  \n",
    "  - Shows the official name (e.g., “Downtown Station”, “Westside Monitoring”) for every station icon on the map.\n",
    "\n",
    "---\n",
    "\n",
    "### 4. Adjust Layer Visibility (Optional)\n",
    "\n",
    "**Switch Between Pollutant Layers**  \n",
    "   - At the top of the sidebar, there may be a **“Layers”** section where you can choose which pollutant layer (e.g., PM₂.₅, NO₂, O₃) is rendered.  \n",
    "   - Select the layer you’re interested in, and the map will recolor or re‐symbolize accordingly.\n",
    "\n",
    "---\n",
    "\n",
    "### 5. Re‐collapse the Sidebar (When You’re Done)\n",
    "\n",
    "- Click the same arrow icon in the top-left to collapse the menu.  \n",
    "- This gives you a full‐screen view of the map without sidebar distractions.\n",
    "\n",
    "---\n",
    "\n",
    "## Example Walkthrough\n",
    "\n",
    "1. **Initial State**  \n",
    "   - By default, the map loads with the sidebar collapsed (arrow pointing right).\n",
    "\n"
   ]
  }
 ],
 "metadata": {
  "kernelspec": {
   "display_name": "Python 3 (ipykernel)",
   "language": "python",
   "name": "python3"
  },
  "language_info": {
   "codemirror_mode": {
    "name": "ipython",
    "version": 3
   },
   "file_extension": ".py",
   "mimetype": "text/x-python",
   "name": "python",
   "nbconvert_exporter": "python",
   "pygments_lexer": "ipython3",
   "version": "3.12.2"
  }
 },
 "nbformat": 4,
 "nbformat_minor": 5
}
