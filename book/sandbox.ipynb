{
 "cells": [
  {
   "cell_type": "markdown",
   "id": "a2ef553a-b06f-4f8b-be56-74ba59228778",
   "metadata": {},
   "source": [
    "# Sandbox"
   ]
  },
  {
   "cell_type": "code",
   "execution_count": 1,
   "id": "50e2df4b-f79c-428a-b979-fbcae3da6488",
   "metadata": {
    "editable": true,
    "slideshow": {
     "slide_type": ""
    },
    "tags": []
   },
   "outputs": [
    {
     "data": {
      "text/plain": [
       "'Loaded environmental_insights package!'"
      ]
     },
     "metadata": {},
     "output_type": "display_data"
    }
   ],
   "source": [
    "from environmental_insights import air_pollution_functions as ei_air_pollution_functions\n",
    "from environmental_insights import data as ei_data\n",
    "from environmental_insights import models as ei_models\n",
    "from environmental_insights import download as ei_download\n",
    "\n",
    "display(\"Loaded environmental_insights package!\")"
   ]
  },
  {
   "cell_type": "code",
   "execution_count": 2,
   "id": "05e3d321-d229-4820-a957-7fd183d7f7ae",
   "metadata": {
    "editable": true,
    "slideshow": {
     "slide_type": ""
    },
    "tags": [
     "skip-execution"
    ]
   },
   "outputs": [
    {
     "name": "stdout",
     "output_type": "stream",
     "text": [
      "['Aston_Hill', 'Barnsley_Gawber', 'Billingham', 'Birkenhead_Borough_Road', 'Birmingham_A4540_Roadside', 'Birmingham_Acocks_Green', 'Blackburn_Accrington_Road', 'Blackpool_Marton', 'Bournemouth', 'Bradford_Mayo_Avenue', 'Brighton_Preston_Park', 'Bristol_St_Pauls', 'Bury_Whitefield_Roadside', 'Cambridge_Roadside', 'Camden_Kerbside', 'Cannock_A5190_Roadside', 'Canterbury', 'Carlisle_Roadside', 'Charlton_Mackrell', 'Chatham_Roadside', 'Chesterfield_Loundsley_Green', 'Chesterfield_Roadside', 'Chilbolton_Observatory', 'Christchurch_Barrack_Road', 'Coventry_Allesley', 'Doncaster_A630_Cleveland_Street', 'Eastbourne', 'Exeter_Roadside', 'Glazebury', 'Haringey_Roadside', 'High_Muffles', 'Honiton', 'Horley', 'Hull_Freetown', 'Hull_Holderness_Road', 'Ladybower', 'Leamington_Spa', 'Leamington_Spa_Rugby_Road', 'Leeds_Centre', 'Leeds_Headingley_Kerbside', 'Leicester_A594_Roadside', 'Leicester_University', 'Leominster', 'Liverpool_Speke', 'London_Bexley', 'London_Bloomsbury', 'London_Eltham', 'London_Haringey_Priory_Park_South', 'London_Harlington', 'London_Hillingdon', 'London_Marylebone_Road', 'London_N._Kensington', 'London_Westminster', 'Lullington_Heath', 'Luton_A505_Roadside', 'Manchester_Piccadilly', 'Manchester_Sharston', 'Middlesbrough', 'Newcastle_Centre', 'Newcastle_Cradlewell_Roadside', 'Norwich_Lakenfields', 'Nottingham_Centre', 'Nottingham_Western_Boulevard', 'Oldbury_Birmingham_Road', 'Oxford_Centre_Roadside', 'Oxford_St_Ebbes', 'Plymouth_Centre', 'Preston', 'Reading_New_Town', 'Rochester_Stoke', 'Salford_Eccles', 'Sandy_Roadside', 'Scunthorpe_Town', 'Shaw_Crompton_Way', 'Sheffield_Barnsley_Road', 'Sheffield_Devonshire_Green', 'Sheffield_Tinsley', 'Southampton_A33', 'Southampton_Centre', 'Southend-on-Sea', 'Southwark_A2_Old_Kent_Road', 'St_Helens_Linkway', 'St_Osyth', 'Stanford-le-Hope_Roadside', 'Stockton-on-Tees_A1305_Roadside', 'Stockton-on-Tees_Eaglescliffe', 'Stoke-on-Trent_A50_Roadside', 'Stoke-on-Trent_Centre', 'Storrington_Roadside', 'Sunderland_Silksworth', 'Sunderland_Wessington_Way', 'Thurrock', 'Tower_Hamlets_Roadside', 'Walsall_Woodlands', 'Warrington', 'Wicken_Fen', 'Widnes_Milton_Road', 'Wigan_Centre', 'Wirral_Tranmere', 'Worthing_A27_Roadside', 'Yarner_Wood', 'York_Bootham', 'York_Fishergate']\n"
     ]
    }
   ],
   "source": [
    "# 1) To just get the list of available stations for a pollutant:\n",
    "stations = ei_data.get_uk_monitoring_stations(\"no2\")\n",
    "print(stations)"
   ]
  },
  {
   "cell_type": "code",
   "execution_count": 4,
   "id": "e542ecd3-175f-4b86-8742-d93eaa71a137",
   "metadata": {
    "editable": true,
    "slideshow": {
     "slide_type": ""
    },
    "tags": [
     "skip-execution"
    ]
   },
   "outputs": [
    {
     "name": "stdout",
     "output_type": "stream",
     "text": [
      "Downloaded: https://dap.ceda.ac.uk/badc/deposited2025/ML-HAPPE/Training_Data/no2/Aston_Hill.nc -> /Users/lb788/Documents/EI/Environmental-Insights/environmental_insights/environmental_insights_data/ML-HAPPE/Training_Data/no2\n"
     ]
    },
    {
     "data": {
      "text/html": [
       "<div>\n",
       "<style scoped>\n",
       "    .dataframe tbody tr th:only-of-type {\n",
       "        vertical-align: middle;\n",
       "    }\n",
       "\n",
       "    .dataframe tbody tr th {\n",
       "        vertical-align: top;\n",
       "    }\n",
       "\n",
       "    .dataframe thead th {\n",
       "        text-align: right;\n",
       "    }\n",
       "</style>\n",
       "<table border=\"1\" class=\"dataframe\">\n",
       "  <thead>\n",
       "    <tr style=\"text-align: right;\">\n",
       "      <th></th>\n",
       "      <th>Timestamp</th>\n",
       "      <th>Northing</th>\n",
       "      <th>Easting</th>\n",
       "      <th>Sentinel_5P_NO2</th>\n",
       "      <th>Sentinel_5P_AAI</th>\n",
       "      <th>Sentinel_5P_CO</th>\n",
       "      <th>Sentinel_5P_HCHO</th>\n",
       "      <th>Sentinel_5P_O3</th>\n",
       "      <th>Improved_Grassland</th>\n",
       "      <th>Broadleaved_woodland</th>\n",
       "      <th>...</th>\n",
       "      <th>NAEI_SNAP_7_PM25</th>\n",
       "      <th>NAEI_SNAP_8_PM25</th>\n",
       "      <th>NAEI_SNAP_9_PM25</th>\n",
       "      <th>NAEI_SNAP_10_PM25</th>\n",
       "      <th>NAEI_SNAP_11_PM25</th>\n",
       "      <th>Month_Number</th>\n",
       "      <th>Week_Number</th>\n",
       "      <th>Day_of_Week_Number</th>\n",
       "      <th>Hour_Number</th>\n",
       "      <th>no2_Measurement</th>\n",
       "    </tr>\n",
       "  </thead>\n",
       "  <tbody>\n",
       "    <tr>\n",
       "      <th>0</th>\n",
       "      <td>2014-01-01 00:00:00</td>\n",
       "      <td>6857831.988</td>\n",
       "      <td>-337791.4429</td>\n",
       "      <td>0.000026</td>\n",
       "      <td>-0.6127</td>\n",
       "      <td>0.033315</td>\n",
       "      <td>0.00002</td>\n",
       "      <td>0.145943</td>\n",
       "      <td>188.0</td>\n",
       "      <td>0.0</td>\n",
       "      <td>...</td>\n",
       "      <td>0.001769</td>\n",
       "      <td>0.008855</td>\n",
       "      <td>0.002282</td>\n",
       "      <td>0.000513</td>\n",
       "      <td>0.002381</td>\n",
       "      <td>1</td>\n",
       "      <td>1</td>\n",
       "      <td>2</td>\n",
       "      <td>0</td>\n",
       "      <td>0.90908</td>\n",
       "    </tr>\n",
       "    <tr>\n",
       "      <th>1</th>\n",
       "      <td>2014-01-01 01:00:00</td>\n",
       "      <td>6857831.988</td>\n",
       "      <td>-337791.4429</td>\n",
       "      <td>0.000026</td>\n",
       "      <td>-0.6127</td>\n",
       "      <td>0.033315</td>\n",
       "      <td>0.00002</td>\n",
       "      <td>0.145943</td>\n",
       "      <td>188.0</td>\n",
       "      <td>0.0</td>\n",
       "      <td>...</td>\n",
       "      <td>0.000838</td>\n",
       "      <td>0.008855</td>\n",
       "      <td>0.002282</td>\n",
       "      <td>0.000513</td>\n",
       "      <td>0.002381</td>\n",
       "      <td>1</td>\n",
       "      <td>1</td>\n",
       "      <td>2</td>\n",
       "      <td>1</td>\n",
       "      <td>1.13730</td>\n",
       "    </tr>\n",
       "    <tr>\n",
       "      <th>2</th>\n",
       "      <td>2014-01-01 02:00:00</td>\n",
       "      <td>6857831.988</td>\n",
       "      <td>-337791.4429</td>\n",
       "      <td>0.000026</td>\n",
       "      <td>-0.6127</td>\n",
       "      <td>0.033315</td>\n",
       "      <td>0.00002</td>\n",
       "      <td>0.145943</td>\n",
       "      <td>188.0</td>\n",
       "      <td>0.0</td>\n",
       "      <td>...</td>\n",
       "      <td>0.000559</td>\n",
       "      <td>0.008855</td>\n",
       "      <td>0.002282</td>\n",
       "      <td>0.000513</td>\n",
       "      <td>0.002381</td>\n",
       "      <td>1</td>\n",
       "      <td>1</td>\n",
       "      <td>2</td>\n",
       "      <td>2</td>\n",
       "      <td>0.90939</td>\n",
       "    </tr>\n",
       "    <tr>\n",
       "      <th>3</th>\n",
       "      <td>2014-01-01 03:00:00</td>\n",
       "      <td>6857831.988</td>\n",
       "      <td>-337791.4429</td>\n",
       "      <td>0.000026</td>\n",
       "      <td>-0.6127</td>\n",
       "      <td>0.033315</td>\n",
       "      <td>0.00002</td>\n",
       "      <td>0.145943</td>\n",
       "      <td>188.0</td>\n",
       "      <td>0.0</td>\n",
       "      <td>...</td>\n",
       "      <td>0.000466</td>\n",
       "      <td>0.008855</td>\n",
       "      <td>0.002282</td>\n",
       "      <td>0.000513</td>\n",
       "      <td>0.002381</td>\n",
       "      <td>1</td>\n",
       "      <td>1</td>\n",
       "      <td>2</td>\n",
       "      <td>3</td>\n",
       "      <td>0.79560</td>\n",
       "    </tr>\n",
       "    <tr>\n",
       "      <th>4</th>\n",
       "      <td>2014-01-01 04:00:00</td>\n",
       "      <td>6857831.988</td>\n",
       "      <td>-337791.4429</td>\n",
       "      <td>0.000026</td>\n",
       "      <td>-0.6127</td>\n",
       "      <td>0.033315</td>\n",
       "      <td>0.00002</td>\n",
       "      <td>0.145943</td>\n",
       "      <td>188.0</td>\n",
       "      <td>0.0</td>\n",
       "      <td>...</td>\n",
       "      <td>0.000838</td>\n",
       "      <td>0.008855</td>\n",
       "      <td>0.002282</td>\n",
       "      <td>0.000513</td>\n",
       "      <td>0.002381</td>\n",
       "      <td>1</td>\n",
       "      <td>1</td>\n",
       "      <td>2</td>\n",
       "      <td>4</td>\n",
       "      <td>0.96629</td>\n",
       "    </tr>\n",
       "  </tbody>\n",
       "</table>\n",
       "<p>5 rows × 156 columns</p>\n",
       "</div>"
      ],
      "text/plain": [
       "            Timestamp     Northing      Easting  Sentinel_5P_NO2  \\\n",
       "0 2014-01-01 00:00:00  6857831.988 -337791.4429         0.000026   \n",
       "1 2014-01-01 01:00:00  6857831.988 -337791.4429         0.000026   \n",
       "2 2014-01-01 02:00:00  6857831.988 -337791.4429         0.000026   \n",
       "3 2014-01-01 03:00:00  6857831.988 -337791.4429         0.000026   \n",
       "4 2014-01-01 04:00:00  6857831.988 -337791.4429         0.000026   \n",
       "\n",
       "   Sentinel_5P_AAI  Sentinel_5P_CO  Sentinel_5P_HCHO  Sentinel_5P_O3  \\\n",
       "0          -0.6127        0.033315           0.00002        0.145943   \n",
       "1          -0.6127        0.033315           0.00002        0.145943   \n",
       "2          -0.6127        0.033315           0.00002        0.145943   \n",
       "3          -0.6127        0.033315           0.00002        0.145943   \n",
       "4          -0.6127        0.033315           0.00002        0.145943   \n",
       "\n",
       "   Improved_Grassland  Broadleaved_woodland  ...  NAEI_SNAP_7_PM25  \\\n",
       "0               188.0                   0.0  ...          0.001769   \n",
       "1               188.0                   0.0  ...          0.000838   \n",
       "2               188.0                   0.0  ...          0.000559   \n",
       "3               188.0                   0.0  ...          0.000466   \n",
       "4               188.0                   0.0  ...          0.000838   \n",
       "\n",
       "   NAEI_SNAP_8_PM25  NAEI_SNAP_9_PM25  NAEI_SNAP_10_PM25  NAEI_SNAP_11_PM25  \\\n",
       "0          0.008855          0.002282           0.000513           0.002381   \n",
       "1          0.008855          0.002282           0.000513           0.002381   \n",
       "2          0.008855          0.002282           0.000513           0.002381   \n",
       "3          0.008855          0.002282           0.000513           0.002381   \n",
       "4          0.008855          0.002282           0.000513           0.002381   \n",
       "\n",
       "   Month_Number  Week_Number  Day_of_Week_Number  Hour_Number  no2_Measurement  \n",
       "0             1            1                   2            0          0.90908  \n",
       "1             1            1                   2            1          1.13730  \n",
       "2             1            1                   2            2          0.90939  \n",
       "3             1            1                   2            3          0.79560  \n",
       "4             1            1                   2            4          0.96629  \n",
       "\n",
       "[5 rows x 156 columns]"
      ]
     },
     "metadata": {},
     "output_type": "display_data"
    }
   ],
   "source": [
    "# 2) To download & load a single station’s training file as a GeoDataFrame:\n",
    "gdf = ei_data.get_uk_monitoring_station(\n",
    "    pollutant=\"no2\",\n",
    "    station=\"Aston_Hill\",\n",
    ")\n",
    "display(gdf.head())"
   ]
  },
  {
   "cell_type": "code",
   "execution_count": null,
   "id": "7f6f157a-d10a-47f2-870d-106052cd30e6",
   "metadata": {
    "editable": true,
    "slideshow": {
     "slide_type": ""
    },
    "tags": []
   },
   "outputs": [],
   "source": []
  }
 ],
 "metadata": {
  "kernelspec": {
   "display_name": "Python 3 (ipykernel)",
   "language": "python",
   "name": "python3"
  },
  "language_info": {
   "codemirror_mode": {
    "name": "ipython",
    "version": 3
   },
   "file_extension": ".py",
   "mimetype": "text/x-python",
   "name": "python",
   "nbconvert_exporter": "python",
   "pygments_lexer": "ipython3",
   "version": "3.12.2"
  }
 },
 "nbformat": 4,
 "nbformat_minor": 5
}
