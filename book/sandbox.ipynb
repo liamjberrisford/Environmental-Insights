{
 "cells": [
  {
   "cell_type": "markdown",
   "id": "a2ef553a-b06f-4f8b-be56-74ba59228778",
   "metadata": {},
   "source": [
    "# Sandbox"
   ]
  },
  {
   "cell_type": "code",
   "execution_count": 1,
   "id": "50e2df4b-f79c-428a-b979-fbcae3da6488",
   "metadata": {},
   "outputs": [
    {
     "data": {
      "text/plain": [
       "'Hello world!'"
      ]
     },
     "metadata": {},
     "output_type": "display_data"
    }
   ],
   "source": [
    "from environmental_insights import air_pollution_functions as ei_air_pollution_functions\n",
    "from environmental_insights import data as ei_data\n",
    "from environmental_insights import models as ei_models\n",
    "from environmental_insights import download as ei_download\n",
    "\n",
    "display(\"Hello world!\")"
   ]
  },
  {
   "cell_type": "code",
   "execution_count": null,
   "id": "707baf30-408c-4125-8428-f29d215d16e9",
   "metadata": {},
   "outputs": [],
   "source": []
  }
 ],
 "metadata": {
  "kernelspec": {
   "display_name": "Python 3 (ipykernel)",
   "language": "python",
   "name": "python3"
  },
  "language_info": {
   "codemirror_mode": {
    "name": "ipython",
    "version": 3
   },
   "file_extension": ".py",
   "mimetype": "text/x-python",
   "name": "python",
   "nbconvert_exporter": "python",
   "pygments_lexer": "ipython3",
   "version": "3.12.2"
  }
 },
 "nbformat": 4,
 "nbformat_minor": 5
}
