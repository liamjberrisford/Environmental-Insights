{
 "cells": [
  {
   "cell_type": "markdown",
   "id": "51d99ab5-0ff8-4c22-b4fd-ff3704e76012",
   "metadata": {},
   "source": [
    "# Data Explorer England "
   ]
  },
  {
   "cell_type": "markdown",
   "id": "9e53f873-2e3d-4f29-bd19-ba8577869c83",
   "metadata": {
    "editable": true,
    "slideshow": {
     "slide_type": ""
    },
    "tags": [
     "remove-input"
    ]
   },
   "source": [
    "<div style=\"position:relative; width:100%; height:100vh; margin:0; padding:0;\">\n",
    "  <iframe\n",
    "    src=\"_static/mlhappe_no2.html\"\n",
    "    style=\"position:absolute;\n",
    "           top:0; left:0;\n",
    "           width:100%; height:100%;\n",
    "           border:none;\">\n",
    "  </iframe>\n",
    "</div>\n"
   ]
  },
  {
   "cell_type": "code",
   "execution_count": null,
   "id": "a623153b-8cb0-434f-9c78-4c6726c2a4c9",
   "metadata": {
    "editable": true,
    "slideshow": {
     "slide_type": ""
    },
    "tags": []
   },
   "outputs": [],
   "source": [
    "#Add README from CEDA"
   ]
  }
 ],
 "metadata": {
  "kernelspec": {
   "display_name": "Python 3 (ipykernel)",
   "language": "python",
   "name": "python3"
  },
  "language_info": {
   "codemirror_mode": {
    "name": "ipython",
    "version": 3
   },
   "file_extension": ".py",
   "mimetype": "text/x-python",
   "name": "python",
   "nbconvert_exporter": "python",
   "pygments_lexer": "ipython3",
   "version": "3.12.2"
  }
 },
 "nbformat": 4,
 "nbformat_minor": 5
}
