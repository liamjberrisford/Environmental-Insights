{
 "cells": [
  {
   "cell_type": "markdown",
   "id": "7f9c8948-5986-45fa-9eec-d88dfb1ac864",
   "metadata": {
    "editable": true,
    "slideshow": {
     "slide_type": ""
    },
    "tags": []
   },
   "source": [
    "# Environmental Insights\n",
    "\n",
    "## Repo `README.md` Contents\n",
    "\n",
    "---"
   ]
  },
  {
   "cell_type": "code",
   "execution_count": 2,
   "id": "9d8776b5-02ad-41d0-b785-d0df4d978dff",
   "metadata": {
    "editable": true,
    "slideshow": {
     "slide_type": ""
    },
    "tags": [
     "remove-input"
    ]
   },
   "outputs": [
    {
     "data": {
      "text/markdown": [
       "# Environmental Insights\n",
       "\n",
       "[![PyPI version](https://img.shields.io/pypi/v/environmental-insights.svg?cacheSeconds=3600)](https://pypi.org/project/environmental-insights)\n",
       "[![GitHub release](https://img.shields.io/github/v/release/liamjberrisford/Environmental-Insights.svg?sort=semver&cacheSeconds=3600)](https://github.com/liamjberrisford/Environmental-Insights/releases)\n",
       "[![Build status](https://img.shields.io/github/actions/workflow/status/liamjberrisford/Environmental-Insights/release.yml?branch=main&cacheSeconds=3600)](https://github.com/liamjberrisford/Environmental-Insights/actions)\n",
       "[![Tests](https://img.shields.io/github/actions/workflow/status/liamjberrisford/Environmental-Insights/testing.yml?branch=main&label=tests&style=flat-square)](https://github.com/liamjberrisford/Environmental-Insights/actions/workflows/testing.yml)\n",
       "\n",
       "\n",
       "\n",
       "A Python package for democratizing access to ambient air pollution data and predictive analytics.\n",
       "\n",
       "---\n",
       "\n",
       "## 📖 Description\n",
       "\n",
       "**Environmental Insights** provides easy-to-use functions to download, process, and analyze ambient air pollution and meteorological data over England.  \n",
       "- Implements supervised machine-learning pipelines to predict hourly pollutant concentrations on a 1 km² grid.  \n",
       "- Supplies both “typical day” aggregates (percentiles) and full hourly model outputs.  \n",
       "- Includes geospatial utilities for mapping, interpolation, and uncertainty analysis.\n",
       "\n",
       "---\n",
       "\n",
       "## ⚙️ Installation\n",
       "\n",
       "Install from PyPI:\n",
       "\n",
       "```bash\n",
       "pip install environmental-insights\n",
       "```\n",
       "\n",
       "Or from source:\n",
       "\n",
       "```bash\n",
       "git clone https://github.com/liamjberrisford/Environmental-Insights.git\n",
       "cd Environmental-Insights\n",
       "python -m build\n",
       "pip install dist/environmental_insights-0.2.1b0-py3-none-any.whl\n",
       "```\n",
       "\n",
       "---\n",
       "\n",
       "## 🔗 Dependencies\n",
       "\n",
       "- Python ≥ 3.10  \n",
       "- geopandas ≥ 1.0.1  \n",
       "- lightgbm  \n",
       "- matplotlib  \n",
       "- overpy  \n",
       "- pandas  \n",
       "- pyarrow  \n",
       "- pyogrio  \n",
       "- requests  \n",
       "- scipy  \n",
       "- shapely  \n",
       "- jupyterlab ≥ 4.4.2  \n",
       "- xarray ≥ 2025.4.0  \n",
       "- netcdf4 ≥ 1.7.2  \n",
       "- scikit-learn ≥ 1.6.1  \n",
       "\n",
       "---\n",
       "\n",
       "## 📂 Data Sources\n",
       "\n",
       "This package downloads and processes two primary CEDA datasets:\n",
       "\n",
       "1. **Synthetic Hourly Air Pollution Prediction Averages for England (SynthHAPPE)**  \n",
       "   Berrisford, L. (2025). *Synthetic Hourly Air Pollution Prediction Averages for England (SynthHAPPE).* NERC EDS Centre for Environmental Data Analysis.  \n",
       "   DOI: [10.5285/4cbd9c53ab07497ba42de5043d1f414b](https://dx.doi.org/10.5285/4cbd9c53ab07497ba42de5043d1f414b)  \n",
       "   > Representative “typical day” profiles of NO₂, NO, NOₓ, O₃, PM₁₀, PM₂.₅ and SO₂ on a 1 km² grid, with 5th, 50th & 95th percentiles.\n",
       "\n",
       "2. **Machine Learning for Hourly Air Pollution Prediction in England (ML-HAPPE)**  \n",
       "   Berrisford, L. (2025). *Machine Learning for Hourly Air Pollution Prediction in England (ML-HAPPE).* NERC EDS Centre for Environmental Data Analysis.  \n",
       "   DOI: [10.5285/fc735f9878ed43e293b85f85e40df24d](https://dx.doi.org/10.5285/fc735f9878ed43e293b85f85e40df24d)  \n",
       "   > Full-year (2018) hourly modelled concentrations of NO₂, NO, NOₓ, O₃, PM₁₀, PM₂.₅ and SO₂ on a 1 km² grid, including 5th, 50th & 95th percentiles and underlying training data.\n",
       "\n",
       "---\n",
       "\n",
       "For full examples, see the Jupyter-Book tutorial in `book/tutorial_environmental_insights.ipynb`.\n",
       "\n",
       "## 📚 Documentation\n",
       "\n",
       "Build and view locally:\n",
       "\n",
       "```bash\n",
       "jupyter-book build book/\n",
       "```\n",
       "\n",
       "Then open `book/_build/html/index.html` in your browser.  \n",
       "Highlights:\n",
       "\n",
       "- **API Reference**: `book/docs/api/environmental_insights/`  \n",
       "- **Tutorial Notebook**: `book/tutorial_environmental_insights.ipynb`\n",
       "\n",
       "The documentation is also avaiable via the [GitHub Pages Site](https://liamjberrisford.github.io/Environmental-Insights/home_page.html)\n",
       "\n",
       "---\n",
       "\n",
       "## ✅ Testing\n",
       "\n",
       "Run the full test suite:\n",
       "\n",
       "```bash\n",
       "pytest\n",
       "```\n",
       "\n",
       "Integration and unit tests are under `tests/`.\n",
       "\n",
       "---\n",
       "\n",
       "## 🤝 Contributing\n",
       "\n",
       "Contributions and bug-reports are very welcome! Please see [CONTRIBUTING.md](CONTRIBUTING.md) for details on:\n",
       "\n",
       "- Code style  \n",
       "- Pull request process  \n",
       "- Issue reporting  \n",
       "\n",
       "---\n",
       "\n",
       "## 📑 Citation\n",
       "\n",
       "If you use *Environmental Insights* in your work, please cite:\n",
       "\n",
       "> Berrisford, L. J. (2025). Environmental Insights: Democratizing access to ambient air pollution data and predictive analytics (Version 0.2.1b0) [Software]. GitHub. https://github.com/liamjberrisford/Environmental-Insights  \n",
       "\n",
       "Also cite the underlying datasets:\n",
       "\n",
       "- Berrisford, L. (2025). *SynthHAPPE*: Synthetic Hourly Air Pollution Prediction Averages for England. NERC EDS CEDA. DOI: 10.5285/4cbd9c53ab07497ba42de5043d1f414b  \n",
       "- Berrisford, L. (2025). *ML-HAPPE*: Machine Learning for Hourly Air Pollution Prediction in England. NERC EDS CEDA. DOI: 10.5285/fc735f9878ed43e293b85f85e40df24d  \n",
       "\n",
       "---\n",
       "\n",
       "## 📜 License\n",
       "\n",
       "This project is released under the [GPL-3.0-or-later](LICENSE).  \n"
      ],
      "text/plain": [
       "<IPython.core.display.Markdown object>"
      ]
     },
     "metadata": {},
     "output_type": "display_data"
    }
   ],
   "source": [
    "from IPython.display import Markdown, display\n",
    "\n",
    "# Path to your markdown file\n",
    "md_path = \"../README.md\"\n",
    "\n",
    "# Read the file\n",
    "with open(md_path, \"r\", encoding=\"utf-8\") as f:\n",
    "    md_text = f.read()\n",
    "\n",
    "# Display as rendered Markdown\n",
    "display(Markdown(md_text))\n"
   ]
  },
  {
   "cell_type": "code",
   "execution_count": null,
   "id": "156ddd6c-9d89-46ca-8e8d-c6b977247489",
   "metadata": {
    "editable": true,
    "slideshow": {
     "slide_type": ""
    },
    "tags": []
   },
   "outputs": [],
   "source": []
  }
 ],
 "metadata": {
  "kernelspec": {
   "display_name": "Python 3 (ipykernel)",
   "language": "python",
   "name": "python3"
  },
  "language_info": {
   "codemirror_mode": {
    "name": "ipython",
    "version": 3
   },
   "file_extension": ".py",
   "mimetype": "text/x-python",
   "name": "python",
   "nbconvert_exporter": "python",
   "pygments_lexer": "ipython3",
   "version": "3.12.2"
  }
 },
 "nbformat": 4,
 "nbformat_minor": 5
}
